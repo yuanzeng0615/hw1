{
  "nbformat": 4,
  "nbformat_minor": 0,
  "metadata": {
    "colab": {
      "provenance": [],
      "toc_visible": true,
      "include_colab_link": true
    },
    "kernelspec": {
      "name": "python3",
      "display_name": "Python 3"
    },
    "language_info": {
      "name": "python"
    }
  },
  "cells": [
    {
      "cell_type": "markdown",
      "metadata": {
        "id": "view-in-github",
        "colab_type": "text"
      },
      "source": [
        "<a href=\"https://colab.research.google.com/github/yuanzeng0615/hw1/blob/main/FizzBuzz.ipynb\" target=\"_parent\"><img src=\"https://colab.research.google.com/assets/colab-badge.svg\" alt=\"Open In Colab\"/></a>"
      ]
    },
    {
      "cell_type": "code",
      "execution_count": 1,
      "metadata": {
        "colab": {
          "base_uri": "https://localhost:8080/"
        },
        "id": "SMC-bUUN9-gj",
        "outputId": "44da03e6-9d9e-4229-c4f9-b0e81f6044ab"
      },
      "outputs": [
        {
          "output_type": "stream",
          "name": "stdout",
          "text": [
            "[1, 2, 3, 4]\n"
          ]
        }
      ],
      "source": [
        "#!/usr/bin/env python3\n",
        "# -*- coding: utf-8 -*-\n",
        "\"\"\"\n",
        "Created on Tue Jun 11 21:47:04 2024\n",
        "\n",
        "@author: tleitch\n",
        "\"\"\"\n",
        "\n",
        "# Have this code run for any start and finish values\n",
        "\n",
        "def FizzBuzz(start, finish):\n",
        "    outlist = []\n",
        "    for i in range(start,finish+1):\n",
        "        outlist.append(i)\n",
        "        print(outlist)\n",
        "    return(outlist)\n",
        "\n",
        "\n",
        "# Tools: Append to a list\n",
        "\n",
        "myEmptyList = []\n",
        "for i in range(1,5):\n",
        "    myEmptyList.append(i)\n",
        "\n",
        "print(myEmptyList)\n"
      ]
    },
    {
      "cell_type": "code",
      "source": [],
      "metadata": {
        "id": "vxeFSlOQBP63"
      },
      "execution_count": 1,
      "outputs": []
    },
    {
      "cell_type": "code",
      "source": [],
      "metadata": {
        "id": "yVh4mCyTBQLA"
      },
      "execution_count": 1,
      "outputs": []
    }
  ]
}